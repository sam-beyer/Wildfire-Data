{
 "cells": [
  {
   "cell_type": "code",
   "execution_count": 1,
   "metadata": {},
   "outputs": [],
   "source": [
    "import sqlite3\n",
    "import pandas as pd\n",
    "import seaborn as sns\n"
   ]
  },
  {
   "cell_type": "markdown",
   "metadata": {},
   "source": [
    "Reading in the data into Python using pandas. Had to use sqlite command to read in fire data, then convert to dataframe using pandas."
   ]
  },
  {
   "cell_type": "code",
   "execution_count": 2,
   "metadata": {},
   "outputs": [],
   "source": [
    "cnx = sqlite3.connect('Desktop/FPA_FOD_20170508.sqlite')\n",
    "\n",
    "emissions = pd.read_excel('Desktop/emmissions.xlsx',header=4)\n",
    "\n",
    "fire_df = pd.read_sql_query(\n",
    "    \"SELECT FIRE_YEAR,STAT_CAUSE_DESCR,LATITUDE,LONGITUDE,STATE,DISCOVERY_DATE,FIRE_SIZE,FIRE_SIZE_CLASS FROM 'Fires'\", cnx)"
   ]
  },
  {
   "cell_type": "markdown",
   "metadata": {},
   "source": [
    "Cleaning up the CO2 emissions dataset using a dictionary to convert state names into abbreviations. In order to concatanate the emissions dataset with the fire data set, we need all of the state names to be abbreviated. Dictionary was obtained from https://gist.github.com/rogerallen/1583593. Then, we melted the emissions dataframe in order to make the \"Year\" columns into individual rows to facilitate concatination with the fire dataframe. Also renamed the \"State\" column to \"STATE\" to make the column names equal. \n"
   ]
  },
  {
   "cell_type": "code",
   "execution_count": 3,
   "metadata": {},
   "outputs": [],
   "source": [
    "us_state_abbrev = {'Alabama': 'AL','Alaska': 'AK','Arizona': 'AZ','Arkansas': 'AR','California': 'CA','Colorado': 'CO',\n",
    "    'Connecticut': 'CT','Delaware': 'DE','Florida': 'FL','Georgia': 'GA','Hawaii': 'HI','Idaho': 'ID','Illinois': 'IL',\n",
    "    'Indiana': 'IN','Iowa': 'IA','Kansas': 'KS','Kentucky': 'KY','Louisiana': 'LA','Maine': 'ME','Maryland': 'MD',\n",
    "    'Massachusetts': 'MA','Michigan': 'MI','Minnesota': 'MN','Mississippi': 'MS','Missouri': 'MO','Montana': 'MT',\n",
    "    'Nebraska': 'NE','Nevada': 'NV','New Hampshire': 'NH','New Jersey': 'NJ','New Mexico': 'NM','New York': 'NY',\n",
    "    'North Carolina': 'NC','North Dakota': 'ND','Ohio': 'OH','Oklahoma': 'OK','Oregon': 'OR','Pennsylvania': 'PA',\n",
    "    'Rhode Island': 'RI','South Carolina': 'SC','South Dakota': 'SD','Tennessee': 'TN','Texas': 'TX','Utah': 'UT',\n",
    "    'Vermont': 'VT','Virginia': 'VA','Washington': 'WA','West Virginia': 'WV','Wisconsin': 'WI','Wyoming': 'WY',\n",
    "}\n",
    "\n",
    "emissions = emissions.dropna()\n",
    "\n",
    "emissions = emissions.replace({\"State\": us_state_abbrev})\n",
    "\n",
    "\n",
    "emissions = pd.melt(emissions, id_vars=[\"State\"], \n",
    "                  var_name=\"Year\", value_name=\"CO2\")\n",
    "\n",
    "emissions = emissions.rename(index=str, columns={\"State\": \"STATE\"})"
   ]
  },
  {
   "cell_type": "markdown",
   "metadata": {},
   "source": [
    "More cleaning of the emissions dataframe, removed the absoulte and percent emissions by state. We are striclty looking at emissions by state, by year, rather than the United States as whole and the total of the years in the data."
   ]
  },
  {
   "cell_type": "code",
   "execution_count": 4,
   "metadata": {},
   "outputs": [],
   "source": [
    "emissions = emissions[emissions.STATE != 'Total of states (unadjusted)¹']\n",
    "\n",
    "emissions = emissions[emissions.STATE != 'United States']\n",
    "\n",
    "emissions= emissions[emissions.Year != 'Percent']\n",
    "\n",
    "emissions = emissions[emissions.Year != 'Absolute']"
   ]
  },
  {
   "cell_type": "markdown",
   "metadata": {},
   "source": [
    "Cleaning the fire data, we had to rename the FIRE_YEAR column to be \"Year\" in order to match up with the emissions dataframe column titled \"Year\""
   ]
  },
  {
   "cell_type": "code",
   "execution_count": 5,
   "metadata": {},
   "outputs": [],
   "source": [
    "fire_df = fire_df.rename(index=str, columns={\"FIRE_YEAR\": \"Year\"})"
   ]
  },
  {
   "cell_type": "markdown",
   "metadata": {},
   "source": [
    "Next, with all the cleaning necessary for merging the emissions and fire datasets, we merged them to create a final data frame called \"final_df\""
   ]
  },
  {
   "cell_type": "code",
   "execution_count": 6,
   "metadata": {},
   "outputs": [],
   "source": [
    "final_df= fire_df.merge(emissions,how='outer')"
   ]
  },
  {
   "cell_type": "markdown",
   "metadata": {},
   "source": [
    "Next, we felt it necessary to remove all the null values in the final data frame. This got rid of all the years in which there was either only fire data or only emissions data, and not both. This made the range of years end up being 2000 to 2015, which are the years in which we have both wildfire data and emissions data."
   ]
  },
  {
   "cell_type": "code",
   "execution_count": 7,
   "metadata": {},
   "outputs": [],
   "source": [
    "final_df.dropna(axis=0,inplace=True)"
   ]
  },
  {
   "cell_type": "markdown",
   "metadata": {},
   "source": [
    "The following graphs are for the purpose of Exploratory Data Analysis (EDA). The first graph is the density of wildfires based on latitude. The second graph is the denisty of wildfires based on longitude. The third graph is the density based on both longitude and latitude, which outlines the density of wildfires in the United States. The fourth graph shows the number of wildfires and the size of the wildfires by cause. This only shows the first 100,000 data points, considering it is difficult to effectively visualize over a million data points with a cat plot."
   ]
  },
  {
   "cell_type": "code",
   "execution_count": 22,
   "metadata": {},
   "outputs": [
    {
     "data": {
      "text/plain": [
       "<matplotlib.axes._subplots.AxesSubplot at 0x234b14f4358>"
      ]
     },
     "execution_count": 22,
     "metadata": {},
     "output_type": "execute_result"
    },
    {
     "data": {
      "image/png": "[encoded data removed]",
      "text/plain": [
       "<Figure size 432x288 with 1 Axes>"
      ]
     },
     "metadata": {
      "needs_background": "light"
     },
     "output_type": "display_data"
    }
   ],
   "source": [
    "sns.distplot(final_df['LATITUDE'],bins=100)"
   ]
  },
  {
   "cell_type": "code",
   "execution_count": 9,
   "metadata": {},
   "outputs": [
    {
     "data": {
      "text/plain": [
       "<matplotlib.axes._subplots.AxesSubplot at 0x234b51dd048>"
      ]
     },
     "execution_count": 9,
     "metadata": {},
     "output_type": "execute_result"
    },
    {
     "data": {
      "image/png": "[encoded data removed]",
      "text/plain": [
       "<Figure size 432x288 with 1 Axes>"
      ]
     },
     "metadata": {
      "needs_background": "light"
     },
     "output_type": "display_data"
    }
   ],
   "source": [
    "sns.distplot(final_df['LONGITUDE'])"
   ]
  },
  {
   "cell_type": "code",
   "execution_count": 10,
   "metadata": {},
   "outputs": [
    {
     "data": {
      "text/plain": [
       "<seaborn.axisgrid.JointGrid at 0x234b5136588>"
      ]
     },
     "execution_count": 10,
     "metadata": {},
     "output_type": "execute_result"
    },
    {
     "data": {
      "image/png": "[encoded data removed]",
      "text/plain": [
       "<Figure size 432x432 with 3 Axes>"
      ]
     },
     "metadata": {
      "needs_background": "light"
     },
     "output_type": "display_data"
    }
   ],
   "source": [
    "sns.jointplot('LONGITUDE','LATITUDE',data=final_df,kind='hex',xlim=(-160,-60))"
   ]
  },
  {
   "cell_type": "code",
   "execution_count": 11,
   "metadata": {},
   "outputs": [
    {
     "data": {
      "text/plain": [
       "<seaborn.axisgrid.FacetGrid at 0x234b4c274a8>"
      ]
     },
     "execution_count": 11,
     "metadata": {},
     "output_type": "execute_result"
    },
    {
     "data": {
      "image/png": "[encoded data removed]",
      "text/plain": [
       "<Figure size 360x360 with 1 Axes>"
      ]
     },
     "metadata": {
      "needs_background": "light"
     },
     "output_type": "display_data"
    }
   ],
   "source": [
    "by_cause = final_df.sort_values(by = \"FIRE_SIZE\", ascending=False)[:100000]\n",
    "g = sns.catplot(x=\"STAT_CAUSE_DESCR\",y=\"FIRE_SIZE\", hue=\"STAT_CAUSE_DESCR\", data=by_cause)\n",
    "g.set_xticklabels(rotation=90)"
   ]
  },
  {
   "cell_type": "markdown",
   "metadata": {},
   "source": [
    "Next, we created dummy variables for the categorical data (fire cause and state name) in order to see if there was a correlation between fire size and both state and fire cause. This will help us with ou"
   ]
  },
  {
   "cell_type": "code",
   "execution_count": 12,
   "metadata": {},
   "outputs": [],
   "source": [
    "df_cause_dummies= pd.concat([final_df, pd.get_dummies(final_df['STAT_CAUSE_DESCR'])], axis=1)"
   ]
  },
  {
   "cell_type": "code",
   "execution_count": 13,
   "metadata": {},
   "outputs": [],
   "source": [
    "df_state_dummies = pd.concat([final_df, pd.get_dummies(final_df['STATE'])], axis=1)"
   ]
  },
  {
   "cell_type": "code",
   "execution_count": 14,
   "metadata": {},
   "outputs": [],
   "source": [
    "df_class_dummies = pd.concat([df_state_dummies, pd.get_dummies(final_df['FIRE_SIZE_CLASS'])], axis=1)"
   ]
  },
  {
   "cell_type": "markdown",
   "metadata": {},
   "source": [
    "Next we have to create lists of what we want to check the correlations between the columns in our data. We want to take a look at all the columns that have the causes, fire size classes and states in order to find correlation between each other."
   ]
  },
  {
   "cell_type": "code",
   "execution_count": 15,
   "metadata": {},
   "outputs": [],
   "source": [
    "corr_causes = df_cause_dummies[['Miscellaneous', 'Debris Burning', 'Children', 'Arson',\n",
    "       'Lightning', 'Equipment Use', 'Campfire', 'Smoking', 'Railroad',\n",
    "       'Fireworks', 'Structure', 'Powerline', 'Missing/Undefined','FIRE_SIZE', 'CO2']]"
   ]
  },
  {
   "cell_type": "code",
   "execution_count": 16,
   "metadata": {},
   "outputs": [],
   "source": [
    "corr_state = df_state_dummies[[\"AL\", \"AK\", \"AZ\", \"AR\", \"CA\", \"CO\", \"CT\", \"DE\", \"FL\", \"GA\", \n",
    "          \"HI\", \"ID\", \"IL\", \"IN\", \"IA\", \"KS\", \"KY\", \"LA\", \"ME\", \"MD\", \n",
    "          \"MA\", \"MI\", \"MN\", \"MS\", \"MO\", \"MT\", \"NE\", \"NV\", \"NH\", \"NJ\", \n",
    "          \"NM\", \"NY\", \"NC\", \"ND\", \"OH\", \"OK\", \"OR\", \"PA\", \"RI\", \"SC\", \n",
    "\"SD\", \"TN\", \"TX\", \"UT\", \"VT\", \"VA\", \"WA\", \"WV\", \"WI\", \"WY\",\"FIRE_SIZE\", \"CO2\"]]"
   ]
  },
  {
   "cell_type": "code",
   "execution_count": 17,
   "metadata": {},
   "outputs": [],
   "source": [
    "corr_size_class = df_class_dummies[[\"A\",\"B\",\"C\",\"D\",\"E\",\"F\",\"G\", \"CO2\", \"FIRE_SIZE\"]]"
   ]
  },
  {
   "cell_type": "markdown",
   "metadata": {},
   "source": [
    "The following are the correlation heatmaps for fire size and CO2 with state, fire size class and "
   ]
  },
  {
   "cell_type": "code",
   "execution_count": 18,
   "metadata": {},
   "outputs": [
    {
     "data": {
      "text/plain": [
       "<matplotlib.axes._subplots.AxesSubplot at 0x234b0a18748>"
      ]
     },
     "execution_count": 18,
     "metadata": {},
     "output_type": "execute_result"
    },
    {
     "data": {
      "image/png": "[encoded data removed]",
      "text/plain": [
       "<Figure size 432x288 with 2 Axes>"
      ]
     },
     "metadata": {
      "needs_background": "light"
     },
     "output_type": "display_data"
    }
   ],
   "source": [
    "sns.heatmap(corr_causes.corr()[['FIRE_SIZE','CO2']], cmap='RdYlGn')\n"
   ]
  },
  {
   "cell_type": "code",
   "execution_count": 19,
   "metadata": {},
   "outputs": [
    {
     "data": {
      "text/plain": [
       "<matplotlib.axes._subplots.AxesSubplot at 0x234b0b0f4a8>"
      ]
     },
     "execution_count": 19,
     "metadata": {},
     "output_type": "execute_result"
    },
    {
     "data": {
      "image/png": "[encoded data removed]",
      "text/plain": [
       "<Figure size 432x288 with 2 Axes>"
      ]
     },
     "metadata": {
      "needs_background": "light"
     },
     "output_type": "display_data"
    }
   ],
   "source": [
    "sns.heatmap(corr_state.corr()[['FIRE_SIZE','CO2']], cmap='RdYlGn')\n"
   ]
  },
  {
   "cell_type": "code",
   "execution_count": 20,
   "metadata": {},
   "outputs": [
    {
     "data": {
      "text/plain": [
       "<matplotlib.axes._subplots.AxesSubplot at 0x234b12ef0f0>"
      ]
     },
     "execution_count": 20,
     "metadata": {},
     "output_type": "execute_result"
    },
    {
     "data": {
      "image/png": "[encoded data removed]",
      "text/plain": [
       "<Figure size 432x288 with 2 Axes>"
      ]
     },
     "metadata": {
      "needs_background": "light"
     },
     "output_type": "display_data"
    }
   ],
   "source": [
    "sns.heatmap(corr_size_class.corr()[['FIRE_SIZE','CO2']], cmap='RdYlGn')"
   ]
  },
  {
   "cell_type": "code",
   "execution_count": 24,
   "metadata": {},
   "outputs": [],
   "source": [
    "import statsmodels.api as sm\n",
    "import statsmodels.formula.api as smf"
   ]
  },
  {
   "cell_type": "code",
   "execution_count": 25,
   "metadata": {},
   "outputs": [
    {
     "data": {
      "text/html": [
       "<div>\n",
       "<style scoped>\n",
       "    .dataframe tbody tr th:only-of-type {\n",
       "        vertical-align: middle;\n",
       "    }\n",
       "\n",
       "    .dataframe tbody tr th {\n",
       "        vertical-align: top;\n",
       "    }\n",
       "\n",
       "    .dataframe thead th {\n",
       "        text-align: right;\n",
       "    }\n",
       "</style>\n",
       "<table border=\"1\" class=\"dataframe\">\n",
       "  <thead>\n",
       "    <tr style=\"text-align: right;\">\n",
       "      <th></th>\n",
       "      <th>Year</th>\n",
       "      <th>STAT_CAUSE_DESCR</th>\n",
       "      <th>LATITUDE</th>\n",
       "      <th>LONGITUDE</th>\n",
       "      <th>STATE</th>\n",
       "      <th>DISCOVERY_DATE</th>\n",
       "      <th>FIRE_SIZE</th>\n",
       "      <th>FIRE_SIZE_CLASS</th>\n",
       "      <th>CO2</th>\n",
       "    </tr>\n",
       "  </thead>\n",
       "  <tbody>\n",
       "    <tr>\n",
       "      <th>0</th>\n",
       "      <td>2005.0</td>\n",
       "      <td>Miscellaneous</td>\n",
       "      <td>40.036944</td>\n",
       "      <td>-121.005833</td>\n",
       "      <td>CA</td>\n",
       "      <td>2453403.5</td>\n",
       "      <td>0.1</td>\n",
       "      <td>A</td>\n",
       "      <td>383.75</td>\n",
       "    </tr>\n",
       "    <tr>\n",
       "      <th>1</th>\n",
       "      <td>2005.0</td>\n",
       "      <td>Debris Burning</td>\n",
       "      <td>40.968056</td>\n",
       "      <td>-122.433889</td>\n",
       "      <td>CA</td>\n",
       "      <td>2453437.5</td>\n",
       "      <td>0.8</td>\n",
       "      <td>B</td>\n",
       "      <td>383.75</td>\n",
       "    </tr>\n",
       "    <tr>\n",
       "      <th>2</th>\n",
       "      <td>2005.0</td>\n",
       "      <td>Debris Burning</td>\n",
       "      <td>41.233611</td>\n",
       "      <td>-122.283333</td>\n",
       "      <td>CA</td>\n",
       "      <td>2453444.5</td>\n",
       "      <td>1.0</td>\n",
       "      <td>B</td>\n",
       "      <td>383.75</td>\n",
       "    </tr>\n",
       "    <tr>\n",
       "      <th>3</th>\n",
       "      <td>2005.0</td>\n",
       "      <td>Debris Burning</td>\n",
       "      <td>41.037222</td>\n",
       "      <td>-123.533056</td>\n",
       "      <td>CA</td>\n",
       "      <td>2453548.5</td>\n",
       "      <td>0.1</td>\n",
       "      <td>A</td>\n",
       "      <td>383.75</td>\n",
       "    </tr>\n",
       "    <tr>\n",
       "      <th>4</th>\n",
       "      <td>2005.0</td>\n",
       "      <td>Miscellaneous</td>\n",
       "      <td>34.174444</td>\n",
       "      <td>-117.765000</td>\n",
       "      <td>CA</td>\n",
       "      <td>2453484.5</td>\n",
       "      <td>0.1</td>\n",
       "      <td>A</td>\n",
       "      <td>383.75</td>\n",
       "    </tr>\n",
       "  </tbody>\n",
       "</table>\n",
       "</div>"
      ],
      "text/plain": [
       "     Year STAT_CAUSE_DESCR   LATITUDE   LONGITUDE STATE  DISCOVERY_DATE  \\\n",
       "0  2005.0    Miscellaneous  40.036944 -121.005833    CA       2453403.5   \n",
       "1  2005.0   Debris Burning  40.968056 -122.433889    CA       2453437.5   \n",
       "2  2005.0   Debris Burning  41.233611 -122.283333    CA       2453444.5   \n",
       "3  2005.0   Debris Burning  41.037222 -123.533056    CA       2453548.5   \n",
       "4  2005.0    Miscellaneous  34.174444 -117.765000    CA       2453484.5   \n",
       "\n",
       "   FIRE_SIZE FIRE_SIZE_CLASS     CO2  \n",
       "0        0.1               A  383.75  \n",
       "1        0.8               B  383.75  \n",
       "2        1.0               B  383.75  \n",
       "3        0.1               A  383.75  \n",
       "4        0.1               A  383.75  "
      ]
     },
     "execution_count": 25,
     "metadata": {},
     "output_type": "execute_result"
    }
   ],
   "source": [
    "final_df.head()"
   ]
  },
  {
   "cell_type": "code",
   "execution_count": 32,
   "metadata": {},
   "outputs": [],
   "source": [
    "y = final_df['FIRE_SIZE'].values.reshape(-1,1)"
   ]
  },
  {
   "cell_type": "code",
   "execution_count": 36,
   "metadata": {},
   "outputs": [],
   "source": [
    "form_lr = smf.ols(formula = 'y ~ C(STAT_CAUSE_DESCR) + LATITUDE + LONGITUDE + C(STATE) + DISCOVERY_DATE + C(FIRE_SIZE_CLASS) + CO2 ', \n",
    "              data=final_df)\n",
    "mlr = form_lr.fit()"
   ]
  },
  {
   "cell_type": "code",
   "execution_count": 37,
   "metadata": {},
   "outputs": [
    {
     "data": {
      "text/html": [
       "<table class=\"simpletable\">\n",
       "<caption>OLS Regression Results</caption>\n",
       "<tr>\n",
       "  <th>Dep. Variable:</th>            <td>y</td>        <th>  R-squared:         </th>  <td>   0.248</td>  \n",
       "</tr>\n",
       "<tr>\n",
       "  <th>Model:</th>                   <td>OLS</td>       <th>  Adj. R-squared:    </th>  <td>   0.248</td>  \n",
       "</tr>\n",
       "<tr>\n",
       "  <th>Method:</th>             <td>Least Squares</td>  <th>  F-statistic:       </th>  <td>   5965.</td>  \n",
       "</tr>\n",
       "<tr>\n",
       "  <th>Date:</th>             <td>Fri, 10 May 2019</td> <th>  Prob (F-statistic):</th>   <td>  0.00</td>   \n",
       "</tr>\n",
       "<tr>\n",
       "  <th>Time:</th>                 <td>09:27:03</td>     <th>  Log-Likelihood:    </th> <td>-1.1859e+07</td>\n",
       "</tr>\n",
       "<tr>\n",
       "  <th>No. Observations:</th>      <td>1286232</td>     <th>  AIC:               </th>  <td>2.372e+07</td> \n",
       "</tr>\n",
       "<tr>\n",
       "  <th>Df Residuals:</th>          <td>1286160</td>     <th>  BIC:               </th>  <td>2.372e+07</td> \n",
       "</tr>\n",
       "<tr>\n",
       "  <th>Df Model:</th>              <td>    71</td>      <th>                     </th>      <td> </td>     \n",
       "</tr>\n",
       "<tr>\n",
       "  <th>Covariance Type:</th>      <td>nonrobust</td>    <th>                     </th>      <td> </td>     \n",
       "</tr>\n",
       "</table>\n",
       "<table class=\"simpletable\">\n",
       "<tr>\n",
       "                      <td></td>                        <th>coef</th>     <th>std err</th>      <th>t</th>      <th>P>|t|</th>  <th>[0.025</th>    <th>0.975]</th>  \n",
       "</tr>\n",
       "<tr>\n",
       "  <th>Intercept</th>                                <td>  489.1375</td> <td> 3557.673</td> <td>    0.137</td> <td> 0.891</td> <td>-6483.780</td> <td> 7462.055</td>\n",
       "</tr>\n",
       "<tr>\n",
       "  <th>C(STAT_CAUSE_DESCR)[T.Campfire]</th>          <td>    1.5433</td> <td>   12.799</td> <td>    0.121</td> <td> 0.904</td> <td>  -23.542</td> <td>   26.628</td>\n",
       "</tr>\n",
       "<tr>\n",
       "  <th>C(STAT_CAUSE_DESCR)[T.Children]</th>          <td>   -1.8696</td> <td>   14.251</td> <td>   -0.131</td> <td> 0.896</td> <td>  -29.802</td> <td>   26.062</td>\n",
       "</tr>\n",
       "<tr>\n",
       "  <th>C(STAT_CAUSE_DESCR)[T.Debris Burning]</th>    <td>   -9.6177</td> <td>    7.538</td> <td>   -1.276</td> <td> 0.202</td> <td>  -24.392</td> <td>    5.157</td>\n",
       "</tr>\n",
       "<tr>\n",
       "  <th>C(STAT_CAUSE_DESCR)[T.Equipment Use]</th>     <td>   -5.9796</td> <td>    9.948</td> <td>   -0.601</td> <td> 0.548</td> <td>  -25.477</td> <td>   13.518</td>\n",
       "</tr>\n",
       "<tr>\n",
       "  <th>C(STAT_CAUSE_DESCR)[T.Fireworks]</th>         <td>   10.7308</td> <td>   26.687</td> <td>    0.402</td> <td> 0.688</td> <td>  -41.575</td> <td>   63.036</td>\n",
       "</tr>\n",
       "<tr>\n",
       "  <th>C(STAT_CAUSE_DESCR)[T.Lightning]</th>         <td>   47.4279</td> <td>    9.245</td> <td>    5.130</td> <td> 0.000</td> <td>   29.308</td> <td>   65.548</td>\n",
       "</tr>\n",
       "<tr>\n",
       "  <th>C(STAT_CAUSE_DESCR)[T.Miscellaneous]</th>     <td>   -2.4404</td> <td>    7.955</td> <td>   -0.307</td> <td> 0.759</td> <td>  -18.032</td> <td>   13.151</td>\n",
       "</tr>\n",
       "<tr>\n",
       "  <th>C(STAT_CAUSE_DESCR)[T.Missing/Undefined]</th> <td>  -17.2400</td> <td>   10.845</td> <td>   -1.590</td> <td> 0.112</td> <td>  -38.495</td> <td>    4.015</td>\n",
       "</tr>\n",
       "<tr>\n",
       "  <th>C(STAT_CAUSE_DESCR)[T.Powerline]</th>         <td>  -58.3711</td> <td>   22.647</td> <td>   -2.577</td> <td> 0.010</td> <td> -102.759</td> <td>  -13.984</td>\n",
       "</tr>\n",
       "<tr>\n",
       "  <th>C(STAT_CAUSE_DESCR)[T.Railroad]</th>          <td>    4.0193</td> <td>   20.451</td> <td>    0.197</td> <td> 0.844</td> <td>  -36.064</td> <td>   44.102</td>\n",
       "</tr>\n",
       "<tr>\n",
       "  <th>C(STAT_CAUSE_DESCR)[T.Smoking]</th>           <td>   -3.1714</td> <td>   14.973</td> <td>   -0.212</td> <td> 0.832</td> <td>  -32.517</td> <td>   26.174</td>\n",
       "</tr>\n",
       "<tr>\n",
       "  <th>C(STAT_CAUSE_DESCR)[T.Structure]</th>         <td>  -73.1686</td> <td>   44.521</td> <td>   -1.643</td> <td> 0.100</td> <td> -160.428</td> <td>   14.091</td>\n",
       "</tr>\n",
       "<tr>\n",
       "  <th>C(STATE)[T.AL]</th>                           <td>-1512.5964</td> <td>   87.919</td> <td>  -17.204</td> <td> 0.000</td> <td>-1684.915</td> <td>-1340.278</td>\n",
       "</tr>\n",
       "<tr>\n",
       "  <th>C(STATE)[T.AR]</th>                           <td>-1483.7010</td> <td>   80.460</td> <td>  -18.440</td> <td> 0.000</td> <td>-1641.399</td> <td>-1326.003</td>\n",
       "</tr>\n",
       "<tr>\n",
       "  <th>C(STATE)[T.AZ]</th>                           <td>-1394.2639</td> <td>   65.042</td> <td>  -21.437</td> <td> 0.000</td> <td>-1521.743</td> <td>-1266.785</td>\n",
       "</tr>\n",
       "<tr>\n",
       "  <th>C(STATE)[T.CA]</th>                           <td>-1398.6056</td> <td>   81.159</td> <td>  -17.233</td> <td> 0.000</td> <td>-1557.674</td> <td>-1239.537</td>\n",
       "</tr>\n",
       "<tr>\n",
       "  <th>C(STATE)[T.CO]</th>                           <td>-1481.9685</td> <td>   66.131</td> <td>  -22.410</td> <td> 0.000</td> <td>-1611.582</td> <td>-1352.355</td>\n",
       "</tr>\n",
       "<tr>\n",
       "  <th>C(STATE)[T.CT]</th>                           <td>-1648.6518</td> <td>  106.595</td> <td>  -15.467</td> <td> 0.000</td> <td>-1857.574</td> <td>-1439.730</td>\n",
       "</tr>\n",
       "<tr>\n",
       "  <th>C(STATE)[T.DE]</th>                           <td>-1615.7858</td> <td>  219.936</td> <td>   -7.347</td> <td> 0.000</td> <td>-2046.852</td> <td>-1184.719</td>\n",
       "</tr>\n",
       "<tr>\n",
       "  <th>C(STATE)[T.FL]</th>                           <td>-1555.6881</td> <td>   98.761</td> <td>  -15.752</td> <td> 0.000</td> <td>-1749.256</td> <td>-1362.120</td>\n",
       "</tr>\n",
       "<tr>\n",
       "  <th>C(STATE)[T.GA]</th>                           <td>-1531.8740</td> <td>   91.957</td> <td>  -16.659</td> <td> 0.000</td> <td>-1712.108</td> <td>-1351.640</td>\n",
       "</tr>\n",
       "<tr>\n",
       "  <th>C(STATE)[T.HI]</th>                           <td> -966.1208</td> <td>   80.498</td> <td>  -12.002</td> <td> 0.000</td> <td>-1123.894</td> <td> -808.348</td>\n",
       "</tr>\n",
       "<tr>\n",
       "  <th>C(STATE)[T.IA]</th>                           <td>-1531.6914</td> <td>   85.149</td> <td>  -17.988</td> <td> 0.000</td> <td>-1698.580</td> <td>-1364.803</td>\n",
       "</tr>\n",
       "<tr>\n",
       "  <th>C(STATE)[T.ID]</th>                           <td>-1425.4546</td> <td>   55.613</td> <td>  -25.632</td> <td> 0.000</td> <td>-1534.454</td> <td>-1316.456</td>\n",
       "</tr>\n",
       "<tr>\n",
       "  <th>C(STATE)[T.IL]</th>                           <td>-1566.7560</td> <td>  101.844</td> <td>  -15.384</td> <td> 0.000</td> <td>-1766.367</td> <td>-1367.145</td>\n",
       "</tr>\n",
       "<tr>\n",
       "  <th>C(STATE)[T.IN]</th>                           <td>-1584.5286</td> <td>  109.873</td> <td>  -14.422</td> <td> 0.000</td> <td>-1799.875</td> <td>-1369.182</td>\n",
       "</tr>\n",
       "<tr>\n",
       "  <th>C(STATE)[T.KS]</th>                           <td>-1545.2820</td> <td>   78.997</td> <td>  -19.561</td> <td> 0.000</td> <td>-1700.113</td> <td>-1390.451</td>\n",
       "</tr>\n",
       "<tr>\n",
       "  <th>C(STATE)[T.KY]</th>                           <td>-1565.0561</td> <td>   90.013</td> <td>  -17.387</td> <td> 0.000</td> <td>-1741.478</td> <td>-1388.634</td>\n",
       "</tr>\n",
       "<tr>\n",
       "  <th>C(STATE)[T.LA]</th>                           <td>-1499.8830</td> <td>   88.007</td> <td>  -17.043</td> <td> 0.000</td> <td>-1672.374</td> <td>-1327.392</td>\n",
       "</tr>\n",
       "<tr>\n",
       "  <th>C(STATE)[T.MA]</th>                           <td>-1666.5721</td> <td>  111.407</td> <td>  -14.959</td> <td> 0.000</td> <td>-1884.925</td> <td>-1448.219</td>\n",
       "</tr>\n",
       "<tr>\n",
       "  <th>C(STATE)[T.MD]</th>                           <td>-1609.3166</td> <td>  103.554</td> <td>  -15.541</td> <td> 0.000</td> <td>-1812.280</td> <td>-1406.354</td>\n",
       "</tr>\n",
       "<tr>\n",
       "  <th>C(STATE)[T.ME]</th>                           <td>-1687.5045</td> <td>  106.730</td> <td>  -15.811</td> <td> 0.000</td> <td>-1896.691</td> <td>-1478.318</td>\n",
       "</tr>\n",
       "<tr>\n",
       "  <th>C(STATE)[T.MI]</th>                           <td>-1633.1493</td> <td>   91.030</td> <td>  -17.941</td> <td> 0.000</td> <td>-1811.565</td> <td>-1454.734</td>\n",
       "</tr>\n",
       "<tr>\n",
       "  <th>C(STATE)[T.MN]</th>                           <td>-1579.0878</td> <td>   75.390</td> <td>  -20.946</td> <td> 0.000</td> <td>-1726.849</td> <td>-1431.326</td>\n",
       "</tr>\n",
       "<tr>\n",
       "  <th>C(STATE)[T.MO]</th>                           <td>-1518.2573</td> <td>   83.932</td> <td>  -18.089</td> <td> 0.000</td> <td>-1682.761</td> <td>-1353.754</td>\n",
       "</tr>\n",
       "<tr>\n",
       "  <th>C(STATE)[T.MS]</th>                           <td>-1478.0511</td> <td>   84.367</td> <td>  -17.519</td> <td> 0.000</td> <td>-1643.407</td> <td>-1312.695</td>\n",
       "</tr>\n",
       "<tr>\n",
       "  <th>C(STATE)[T.MT]</th>                           <td>-1515.1870</td> <td>   57.554</td> <td>  -26.326</td> <td> 0.000</td> <td>-1627.991</td> <td>-1402.383</td>\n",
       "</tr>\n",
       "<tr>\n",
       "  <th>C(STATE)[T.NC]</th>                           <td>-1573.3743</td> <td>   93.827</td> <td>  -16.769</td> <td> 0.000</td> <td>-1757.272</td> <td>-1389.476</td>\n",
       "</tr>\n",
       "<tr>\n",
       "  <th>C(STATE)[T.ND]</th>                           <td>-1556.7261</td> <td>   71.040</td> <td>  -21.913</td> <td> 0.000</td> <td>-1695.961</td> <td>-1417.491</td>\n",
       "</tr>\n",
       "<tr>\n",
       "  <th>C(STATE)[T.NE]</th>                           <td>-1517.2041</td> <td>   75.318</td> <td>  -20.144</td> <td> 0.000</td> <td>-1664.825</td> <td>-1369.583</td>\n",
       "</tr>\n",
       "<tr>\n",
       "  <th>C(STATE)[T.NH]</th>                           <td>-1666.7662</td> <td>  118.312</td> <td>  -14.088</td> <td> 0.000</td> <td>-1898.654</td> <td>-1434.878</td>\n",
       "</tr>\n",
       "<tr>\n",
       "  <th>C(STATE)[T.NJ]</th>                           <td>-1639.2436</td> <td>   99.495</td> <td>  -16.476</td> <td> 0.000</td> <td>-1834.250</td> <td>-1444.237</td>\n",
       "</tr>\n",
       "<tr>\n",
       "  <th>C(STATE)[T.NM]</th>                           <td>-1463.8805</td> <td>   68.432</td> <td>  -21.392</td> <td> 0.000</td> <td>-1598.006</td> <td>-1329.755</td>\n",
       "</tr>\n",
       "<tr>\n",
       "  <th>C(STATE)[T.NV]</th>                           <td>-1411.0309</td> <td>   60.539</td> <td>  -23.308</td> <td> 0.000</td> <td>-1529.686</td> <td>-1292.376</td>\n",
       "</tr>\n",
       "<tr>\n",
       "  <th>C(STATE)[T.NY]</th>                           <td>-1668.1905</td> <td>   99.355</td> <td>  -16.790</td> <td> 0.000</td> <td>-1862.922</td> <td>-1473.458</td>\n",
       "</tr>\n",
       "<tr>\n",
       "  <th>C(STATE)[T.OH]</th>                           <td>-1608.7124</td> <td>  103.580</td> <td>  -15.531</td> <td> 0.000</td> <td>-1811.726</td> <td>-1405.699</td>\n",
       "</tr>\n",
       "<tr>\n",
       "  <th>C(STATE)[T.OK]</th>                           <td>-1515.6778</td> <td>   78.052</td> <td>  -19.419</td> <td> 0.000</td> <td>-1668.657</td> <td>-1362.699</td>\n",
       "</tr>\n",
       "<tr>\n",
       "  <th>C(STATE)[T.OR]</th>                           <td>-1386.8943</td> <td>   50.347</td> <td>  -27.546</td> <td> 0.000</td> <td>-1485.574</td> <td>-1288.215</td>\n",
       "</tr>\n",
       "<tr>\n",
       "  <th>C(STATE)[T.PA]</th>                           <td>-1655.5947</td> <td>  103.992</td> <td>  -15.920</td> <td> 0.000</td> <td>-1859.416</td> <td>-1451.773</td>\n",
       "</tr>\n",
       "<tr>\n",
       "  <th>C(STATE)[T.RI]</th>                           <td>-1653.0609</td> <td>  150.361</td> <td>  -10.994</td> <td> 0.000</td> <td>-1947.764</td> <td>-1358.358</td>\n",
       "</tr>\n",
       "<tr>\n",
       "  <th>C(STATE)[T.SC]</th>                           <td>-1548.5348</td> <td>   92.630</td> <td>  -16.717</td> <td> 0.000</td> <td>-1730.087</td> <td>-1366.982</td>\n",
       "</tr>\n",
       "<tr>\n",
       "  <th>C(STATE)[T.SD]</th>                           <td>-1532.4502</td> <td>   69.086</td> <td>  -22.182</td> <td> 0.000</td> <td>-1667.856</td> <td>-1397.045</td>\n",
       "</tr>\n",
       "<tr>\n",
       "  <th>C(STATE)[T.TN]</th>                           <td>-1534.8304</td> <td>   87.359</td> <td>  -17.569</td> <td> 0.000</td> <td>-1706.050</td> <td>-1363.610</td>\n",
       "</tr>\n",
       "<tr>\n",
       "  <th>C(STATE)[T.TX]</th>                           <td>-1527.7594</td> <td>  125.750</td> <td>  -12.149</td> <td> 0.000</td> <td>-1774.225</td> <td>-1281.294</td>\n",
       "</tr>\n",
       "<tr>\n",
       "  <th>C(STATE)[T.UT]</th>                           <td>-1447.1881</td> <td>   61.809</td> <td>  -23.414</td> <td> 0.000</td> <td>-1568.332</td> <td>-1326.045</td>\n",
       "</tr>\n",
       "<tr>\n",
       "  <th>C(STATE)[T.VA]</th>                           <td>-1599.5899</td> <td>   95.172</td> <td>  -16.807</td> <td> 0.000</td> <td>-1786.124</td> <td>-1413.056</td>\n",
       "</tr>\n",
       "<tr>\n",
       "  <th>C(STATE)[T.VT]</th>                           <td>-1661.1291</td> <td>  153.143</td> <td>  -10.847</td> <td> 0.000</td> <td>-1961.284</td> <td>-1360.975</td>\n",
       "</tr>\n",
       "<tr>\n",
       "  <th>C(STATE)[T.WA]</th>                           <td>-1434.3826</td> <td>   50.465</td> <td>  -28.423</td> <td> 0.000</td> <td>-1533.292</td> <td>-1335.473</td>\n",
       "</tr>\n",
       "<tr>\n",
       "  <th>C(STATE)[T.WI]</th>                           <td>-1580.0287</td> <td>   81.120</td> <td>  -19.478</td> <td> 0.000</td> <td>-1739.021</td> <td>-1421.036</td>\n",
       "</tr>\n",
       "<tr>\n",
       "  <th>C(STATE)[T.WV]</th>                           <td>-1583.5845</td> <td>   92.680</td> <td>  -17.087</td> <td> 0.000</td> <td>-1765.234</td> <td>-1401.935</td>\n",
       "</tr>\n",
       "<tr>\n",
       "  <th>C(STATE)[T.WY]</th>                           <td>-1580.8949</td> <td>   65.515</td> <td>  -24.130</td> <td> 0.000</td> <td>-1709.302</td> <td>-1452.488</td>\n",
       "</tr>\n",
       "<tr>\n",
       "  <th>C(FIRE_SIZE_CLASS)[T.B]</th>                  <td>   10.1253</td> <td>    5.183</td> <td>    1.953</td> <td> 0.051</td> <td>   -0.034</td> <td>   20.284</td>\n",
       "</tr>\n",
       "<tr>\n",
       "  <th>C(FIRE_SIZE_CLASS)[T.C]</th>                  <td>   35.5047</td> <td>    7.940</td> <td>    4.472</td> <td> 0.000</td> <td>   19.942</td> <td>   51.067</td>\n",
       "</tr>\n",
       "<tr>\n",
       "  <th>C(FIRE_SIZE_CLASS)[T.D]</th>                  <td>  161.8032</td> <td>   17.769</td> <td>    9.106</td> <td> 0.000</td> <td>  126.976</td> <td>  196.630</td>\n",
       "</tr>\n",
       "<tr>\n",
       "  <th>C(FIRE_SIZE_CLASS)[T.E]</th>                  <td>  494.0957</td> <td>   24.699</td> <td>   20.005</td> <td> 0.000</td> <td>  445.687</td> <td>  542.505</td>\n",
       "</tr>\n",
       "<tr>\n",
       "  <th>C(FIRE_SIZE_CLASS)[T.F]</th>                  <td> 2087.8852</td> <td>   32.580</td> <td>   64.084</td> <td> 0.000</td> <td> 2024.029</td> <td> 2151.741</td>\n",
       "</tr>\n",
       "<tr>\n",
       "  <th>C(FIRE_SIZE_CLASS)[T.G]</th>                  <td> 2.887e+04</td> <td>   45.572</td> <td>  633.474</td> <td> 0.000</td> <td> 2.88e+04</td> <td>  2.9e+04</td>\n",
       "</tr>\n",
       "<tr>\n",
       "  <th>LATITUDE</th>                                 <td>    7.9629</td> <td>    1.614</td> <td>    4.932</td> <td> 0.000</td> <td>    4.799</td> <td>   11.127</td>\n",
       "</tr>\n",
       "<tr>\n",
       "  <th>LONGITUDE</th>                                <td>    6.0040</td> <td>    1.295</td> <td>    4.638</td> <td> 0.000</td> <td>    3.467</td> <td>    8.541</td>\n",
       "</tr>\n",
       "<tr>\n",
       "  <th>DISCOVERY_DATE</th>                           <td>    0.0005</td> <td>    0.001</td> <td>    0.354</td> <td> 0.723</td> <td>   -0.002</td> <td>    0.003</td>\n",
       "</tr>\n",
       "<tr>\n",
       "  <th>CO2</th>                                      <td>    0.1797</td> <td>    0.182</td> <td>    0.986</td> <td> 0.324</td> <td>   -0.177</td> <td>    0.537</td>\n",
       "</tr>\n",
       "</table>\n",
       "<table class=\"simpletable\">\n",
       "<tr>\n",
       "  <th>Omnibus:</th>       <td>5184812.162</td> <th>  Durbin-Watson:     </th>      <td>   1.958</td>     \n",
       "</tr>\n",
       "<tr>\n",
       "  <th>Prob(Omnibus):</th>   <td> 0.000</td>    <th>  Jarque-Bera (JB):  </th> <td>13492370905425.168</td>\n",
       "</tr>\n",
       "<tr>\n",
       "  <th>Skew:</th>            <td>104.916</td>   <th>  Prob(JB):          </th>      <td>    0.00</td>     \n",
       "</tr>\n",
       "<tr>\n",
       "  <th>Kurtosis:</th>       <td>15868.440</td>  <th>  Cond. No.          </th>      <td>4.05e+09</td>     \n",
       "</tr>\n",
       "</table><br/><br/>Warnings:<br/>[1] Standard Errors assume that the covariance matrix of the errors is correctly specified.<br/>[2] The condition number is large, 4.05e+09. This might indicate that there are<br/>strong multicollinearity or other numerical problems."
      ],
      "text/plain": [
       "<class 'statsmodels.iolib.summary.Summary'>\n",
       "\"\"\"\n",
       "                            OLS Regression Results                            \n",
       "==============================================================================\n",
       "Dep. Variable:                      y   R-squared:                       0.248\n",
       "Model:                            OLS   Adj. R-squared:                  0.248\n",
       "Method:                 Least Squares   F-statistic:                     5965.\n",
       "Date:                Fri, 10 May 2019   Prob (F-statistic):               0.00\n",
       "Time:                        09:27:03   Log-Likelihood:            -1.1859e+07\n",
       "No. Observations:             1286232   AIC:                         2.372e+07\n",
       "Df Residuals:                 1286160   BIC:                         2.372e+07\n",
       "Df Model:                          71                                         \n",
       "Covariance Type:            nonrobust                                         \n",
       "============================================================================================================\n",
       "                                               coef    std err          t      P>|t|      [0.025      0.975]\n",
       "------------------------------------------------------------------------------------------------------------\n",
       "Intercept                                  489.1375   3557.673      0.137      0.891   -6483.780    7462.055\n",
       "C(STAT_CAUSE_DESCR)[T.Campfire]              1.5433     12.799      0.121      0.904     -23.542      26.628\n",
       "C(STAT_CAUSE_DESCR)[T.Children]             -1.8696     14.251     -0.131      0.896     -29.802      26.062\n",
       "C(STAT_CAUSE_DESCR)[T.Debris Burning]       -9.6177      7.538     -1.276      0.202     -24.392       5.157\n",
       "C(STAT_CAUSE_DESCR)[T.Equipment Use]        -5.9796      9.948     -0.601      0.548     -25.477      13.518\n",
       "C(STAT_CAUSE_DESCR)[T.Fireworks]            10.7308     26.687      0.402      0.688     -41.575      63.036\n",
       "C(STAT_CAUSE_DESCR)[T.Lightning]            47.4279      9.245      5.130      0.000      29.308      65.548\n",
       "C(STAT_CAUSE_DESCR)[T.Miscellaneous]        -2.4404      7.955     -0.307      0.759     -18.032      13.151\n",
       "C(STAT_CAUSE_DESCR)[T.Missing/Undefined]   -17.2400     10.845     -1.590      0.112     -38.495       4.015\n",
       "C(STAT_CAUSE_DESCR)[T.Powerline]           -58.3711     22.647     -2.577      0.010    -102.759     -13.984\n",
       "C(STAT_CAUSE_DESCR)[T.Railroad]              4.0193     20.451      0.197      0.844     -36.064      44.102\n",
       "C(STAT_CAUSE_DESCR)[T.Smoking]              -3.1714     14.973     -0.212      0.832     -32.517      26.174\n",
       "C(STAT_CAUSE_DESCR)[T.Structure]           -73.1686     44.521     -1.643      0.100    -160.428      14.091\n",
       "C(STATE)[T.AL]                           -1512.5964     87.919    -17.204      0.000   -1684.915   -1340.278\n",
       "C(STATE)[T.AR]                           -1483.7010     80.460    -18.440      0.000   -1641.399   -1326.003\n",
       "C(STATE)[T.AZ]                           -1394.2639     65.042    -21.437      0.000   -1521.743   -1266.785\n",
       "C(STATE)[T.CA]                           -1398.6056     81.159    -17.233      0.000   -1557.674   -1239.537\n",
       "C(STATE)[T.CO]                           -1481.9685     66.131    -22.410      0.000   -1611.582   -1352.355\n",
       "C(STATE)[T.CT]                           -1648.6518    106.595    -15.467      0.000   -1857.574   -1439.730\n",
       "C(STATE)[T.DE]                           -1615.7858    219.936     -7.347      0.000   -2046.852   -1184.719\n",
       "C(STATE)[T.FL]                           -1555.6881     98.761    -15.752      0.000   -1749.256   -1362.120\n",
       "C(STATE)[T.GA]                           -1531.8740     91.957    -16.659      0.000   -1712.108   -1351.640\n",
       "C(STATE)[T.HI]                            -966.1208     80.498    -12.002      0.000   -1123.894    -808.348\n",
       "C(STATE)[T.IA]                           -1531.6914     85.149    -17.988      0.000   -1698.580   -1364.803\n",
       "C(STATE)[T.ID]                           -1425.4546     55.613    -25.632      0.000   -1534.454   -1316.456\n",
       "C(STATE)[T.IL]                           -1566.7560    101.844    -15.384      0.000   -1766.367   -1367.145\n",
       "C(STATE)[T.IN]                           -1584.5286    109.873    -14.422      0.000   -1799.875   -1369.182\n",
       "C(STATE)[T.KS]                           -1545.2820     78.997    -19.561      0.000   -1700.113   -1390.451\n",
       "C(STATE)[T.KY]                           -1565.0561     90.013    -17.387      0.000   -1741.478   -1388.634\n",
       "C(STATE)[T.LA]                           -1499.8830     88.007    -17.043      0.000   -1672.374   -1327.392\n",
       "C(STATE)[T.MA]                           -1666.5721    111.407    -14.959      0.000   -1884.925   -1448.219\n",
       "C(STATE)[T.MD]                           -1609.3166    103.554    -15.541      0.000   -1812.280   -1406.354\n",
       "C(STATE)[T.ME]                           -1687.5045    106.730    -15.811      0.000   -1896.691   -1478.318\n",
       "C(STATE)[T.MI]                           -1633.1493     91.030    -17.941      0.000   -1811.565   -1454.734\n",
       "C(STATE)[T.MN]                           -1579.0878     75.390    -20.946      0.000   -1726.849   -1431.326\n",
       "C(STATE)[T.MO]                           -1518.2573     83.932    -18.089      0.000   -1682.761   -1353.754\n",
       "C(STATE)[T.MS]                           -1478.0511     84.367    -17.519      0.000   -1643.407   -1312.695\n",
       "C(STATE)[T.MT]                           -1515.1870     57.554    -26.326      0.000   -1627.991   -1402.383\n",
       "C(STATE)[T.NC]                           -1573.3743     93.827    -16.769      0.000   -1757.272   -1389.476\n",
       "C(STATE)[T.ND]                           -1556.7261     71.040    -21.913      0.000   -1695.961   -1417.491\n",
       "C(STATE)[T.NE]                           -1517.2041     75.318    -20.144      0.000   -1664.825   -1369.583\n",
       "C(STATE)[T.NH]                           -1666.7662    118.312    -14.088      0.000   -1898.654   -1434.878\n",
       "C(STATE)[T.NJ]                           -1639.2436     99.495    -16.476      0.000   -1834.250   -1444.237\n",
       "C(STATE)[T.NM]                           -1463.8805     68.432    -21.392      0.000   -1598.006   -1329.755\n",
       "C(STATE)[T.NV]                           -1411.0309     60.539    -23.308      0.000   -1529.686   -1292.376\n",
       "C(STATE)[T.NY]                           -1668.1905     99.355    -16.790      0.000   -1862.922   -1473.458\n",
       "C(STATE)[T.OH]                           -1608.7124    103.580    -15.531      0.000   -1811.726   -1405.699\n",
       "C(STATE)[T.OK]                           -1515.6778     78.052    -19.419      0.000   -1668.657   -1362.699\n",
       "C(STATE)[T.OR]                           -1386.8943     50.347    -27.546      0.000   -1485.574   -1288.215\n",
       "C(STATE)[T.PA]                           -1655.5947    103.992    -15.920      0.000   -1859.416   -1451.773\n",
       "C(STATE)[T.RI]                           -1653.0609    150.361    -10.994      0.000   -1947.764   -1358.358\n",
       "C(STATE)[T.SC]                           -1548.5348     92.630    -16.717      0.000   -1730.087   -1366.982\n",
       "C(STATE)[T.SD]                           -1532.4502     69.086    -22.182      0.000   -1667.856   -1397.045\n",
       "C(STATE)[T.TN]                           -1534.8304     87.359    -17.569      0.000   -1706.050   -1363.610\n",
       "C(STATE)[T.TX]                           -1527.7594    125.750    -12.149      0.000   -1774.225   -1281.294\n",
       "C(STATE)[T.UT]                           -1447.1881     61.809    -23.414      0.000   -1568.332   -1326.045\n",
       "C(STATE)[T.VA]                           -1599.5899     95.172    -16.807      0.000   -1786.124   -1413.056\n",
       "C(STATE)[T.VT]                           -1661.1291    153.143    -10.847      0.000   -1961.284   -1360.975\n",
       "C(STATE)[T.WA]                           -1434.3826     50.465    -28.423      0.000   -1533.292   -1335.473\n",
       "C(STATE)[T.WI]                           -1580.0287     81.120    -19.478      0.000   -1739.021   -1421.036\n",
       "C(STATE)[T.WV]                           -1583.5845     92.680    -17.087      0.000   -1765.234   -1401.935\n",
       "C(STATE)[T.WY]                           -1580.8949     65.515    -24.130      0.000   -1709.302   -1452.488\n",
       "C(FIRE_SIZE_CLASS)[T.B]                     10.1253      5.183      1.953      0.051      -0.034      20.284\n",
       "C(FIRE_SIZE_CLASS)[T.C]                     35.5047      7.940      4.472      0.000      19.942      51.067\n",
       "C(FIRE_SIZE_CLASS)[T.D]                    161.8032     17.769      9.106      0.000     126.976     196.630\n",
       "C(FIRE_SIZE_CLASS)[T.E]                    494.0957     24.699     20.005      0.000     445.687     542.505\n",
       "C(FIRE_SIZE_CLASS)[T.F]                   2087.8852     32.580     64.084      0.000    2024.029    2151.741\n",
       "C(FIRE_SIZE_CLASS)[T.G]                   2.887e+04     45.572    633.474      0.000    2.88e+04     2.9e+04\n",
       "LATITUDE                                     7.9629      1.614      4.932      0.000       4.799      11.127\n",
       "LONGITUDE                                    6.0040      1.295      4.638      0.000       3.467       8.541\n",
       "DISCOVERY_DATE                               0.0005      0.001      0.354      0.723      -0.002       0.003\n",
       "CO2                                          0.1797      0.182      0.986      0.324      -0.177       0.537\n",
       "==============================================================================\n",
       "Omnibus:                  5184812.162   Durbin-Watson:                   1.958\n",
       "Prob(Omnibus):                  0.000   Jarque-Bera (JB):   13492370905425.168\n",
       "Skew:                         104.916   Prob(JB):                         0.00\n",
       "Kurtosis:                   15868.440   Cond. No.                     4.05e+09\n",
       "==============================================================================\n",
       "\n",
       "Warnings:\n",
       "[1] Standard Errors assume that the covariance matrix of the errors is correctly specified.\n",
       "[2] The condition number is large, 4.05e+09. This might indicate that there are\n",
       "strong multicollinearity or other numerical problems.\n",
       "\"\"\""
      ]
     },
     "execution_count": 37,
     "metadata": {},
     "output_type": "execute_result"
    }
   ],
   "source": [
    "mlr.summary()"
   ]
  },
  {
   "cell_type": "code",
   "execution_count": null,
   "metadata": {},
   "outputs": [],
   "source": []
  }
 ],
 "metadata": {
  "kernelspec": {
   "display_name": "Python 3",
   "language": "python",
   "name": "python3"
  },
  "language_info": {
   "codemirror_mode": {
    "name": "ipython",
    "version": 3
   },
   "file_extension": ".py",
   "mimetype": "text/x-python",
   "name": "python",
   "nbconvert_exporter": "python",
   "pygments_lexer": "ipython3",
   "version": "3.6.8"
  }
 },
 "nbformat": 4,
 "nbformat_minor": 2
}
